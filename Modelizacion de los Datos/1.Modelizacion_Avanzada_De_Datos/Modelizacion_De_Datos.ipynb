{
 "cells": [
  {
   "cell_type": "markdown",
   "metadata": {},
   "source": [
    "<div style=\"width: 100%; clear: both;\">\n",
    "<div style=\"float: left; width: 50%;\">\n",
    "<img src=\"http://www.uoc.edu/portal/_resources/common/imatges/marca_UOC/UOC_Masterbrand.jpg\", align=\"left\">\n",
    "</div>\n",
    "<div style=\"float: right; width: 50%;\">\n",
    "\n",
    "\n",
    "</div>\n",
    "</div>\n",
    "<div style=\"width:100%;\">&nbsp;</div>\n",
    "\n",
    "\n",
    "# Modelización de los Datos\n",
    "\n",
    "\n"
   ]
  },
  {
   "cell_type": "markdown",
   "metadata": {},
   "source": [
    "Se busca agrupar los países Europeos por Similitud en las variables:\n",
    "\n",
    "* Causas de Mortalidad\n",
    "    * Mortalidad Tratable\n",
    "    * Mortalidad prevenible\n",
    "    * Mortalidad por neumonía\n",
    "\n",
    "* Prevención\n",
    "    * Detección de Cáncer de Mama\n",
    "    * Detección de Cáncer de Cérvix Uterino\n",
    "    * Vacunación a la población mayor de 65 años\n",
    "\n",
    "Se establecen patrones entre los países europeos teniendo en cuenta el índice de mortalidad y la prevención llevada a cabo en los años 2011-2017.\n",
    "\n",
    "Para ello se importan en primer lugar las siguientes librerías:"
   ]
  },
  {
   "cell_type": "code",
   "execution_count": 1,
   "metadata": {},
   "outputs": [],
   "source": [
    "import random\n",
    "\n",
    "import numpy as np\n",
    "import pandas as pd\n",
    "from sklearn import cluster      # Algoritmos de clustering.\n",
    "from sklearn import datasets     # Crear datasets.\n",
    "from sklearn import manifold     # Algoritmos de reduccion de dimensionalidad.\n",
    "from sklearn.cluster import KMeans\n",
    "\n",
    "# Visualizacion.\n",
    "import matplotlib\n",
    "import matplotlib.pyplot as plt\n",
    "import seaborn as sns\n",
    "\n",
    "%matplotlib inline"
   ]
  },
  {
   "cell_type": "markdown",
   "metadata": {},
   "source": [
    "Se procede a continuación a la carga de datos:"
   ]
  },
  {
   "cell_type": "code",
   "execution_count": 2,
   "metadata": {},
   "outputs": [],
   "source": [
    "camas_disponibles=pd.read_csv(\"C:/temp/Camas_Disponibles_Analisis.csv\",sep= \",\")\n",
    "cuidados=pd.read_csv(\"C:/temp/Cuidados_Domiciliarios_Analisis.csv\",sep= \",\")\n",
    "estado=pd.read_csv(\"C:/temp/Estado_Salud_Analisis.csv\",sep= \",\")\n",
    "financiacion=pd.read_csv(\"C:/temp/Financiacion.csv\",sep= \",\")\n",
    "gasto=pd.read_csv(\"C:/temp/GastoSanitario_Analisis.csv\",sep= \",\")\n",
    "medicos=pd.read_csv(\"C:/temp/Medicos_Analisis.csv\",sep= \",\")\n",
    "mortalidad=pd.read_csv(\"C:/temp/Mortalidad_Analisis.csv\",sep= \",\")\n",
    "ocupacion_cama=pd.read_csv(\"C:/temp/Ocupacion_Cama_Analisis.csv\",sep= \",\")\n",
    "personalSanitarioNoMedicos=pd.read_csv(\"C:/temp/PersonalSanitarioNoMedicos_Analisis.csv\",sep= \",\")\n",
    "prevencion=pd.read_csv(\"C:/temp/Prevencion_Analisis.csv\",sep= \",\")\n",
    "ratio_Pacientes_Dialisis=pd.read_csv(\"C:/temp/Ratio_Pacientes_Dialisis_Analisis.csv\",sep= \",\")\n",
    "ratio_Pacientes_Trasplantados=pd.read_csv(\"C:/temp/Ratio_Pacientes_Trasplantados_Analisis.csv\",sep= \",\")\n",
    "recursos_tecnologicos=pd.read_csv(\"C:/temp/Recursos_Tecnologicos_Analisis.csv\",sep= \",\")\n",
    "tecnologia_medica=pd.read_csv(\"C:/temp/Tecnologia_Medica_Analisis.csv\",sep= \",\")"
   ]
  },
  {
   "cell_type": "markdown",
   "metadata": {},
   "source": [
    "**MORTALIDAD**"
   ]
  },
  {
   "cell_type": "code",
   "execution_count": 3,
   "metadata": {},
   "outputs": [
    {
     "data": {
      "text/html": [
       "<div>\n",
       "<style scoped>\n",
       "    .dataframe tbody tr th:only-of-type {\n",
       "        vertical-align: middle;\n",
       "    }\n",
       "\n",
       "    .dataframe tbody tr th {\n",
       "        vertical-align: top;\n",
       "    }\n",
       "\n",
       "    .dataframe thead th {\n",
       "        text-align: right;\n",
       "    }\n",
       "</style>\n",
       "<table border=\"1\" class=\"dataframe\">\n",
       "  <thead>\n",
       "    <tr style=\"text-align: right;\">\n",
       "      <th></th>\n",
       "      <th>TIME</th>\n",
       "      <th>Pais</th>\n",
       "      <th>Mortalidad_Prevenible</th>\n",
       "      <th>Mortalidad_Tratable</th>\n",
       "      <th>Mortalidad_A00_B99</th>\n",
       "      <th>Mortalidad_G00_R50</th>\n",
       "      <th>Mortalidad_pneumonia</th>\n",
       "      <th>Other_sepsis</th>\n",
       "    </tr>\n",
       "  </thead>\n",
       "  <tbody>\n",
       "    <tr>\n",
       "      <th>0</th>\n",
       "      <td>2011</td>\n",
       "      <td>Belgium</td>\n",
       "      <td>15883.5</td>\n",
       "      <td>7459.5</td>\n",
       "      <td>1148</td>\n",
       "      <td>2994</td>\n",
       "      <td>3260</td>\n",
       "      <td>1148</td>\n",
       "    </tr>\n",
       "    <tr>\n",
       "      <th>1</th>\n",
       "      <td>2011</td>\n",
       "      <td>Bulgaria</td>\n",
       "      <td>15459.5</td>\n",
       "      <td>13422.5</td>\n",
       "      <td>233</td>\n",
       "      <td>1227</td>\n",
       "      <td>1200</td>\n",
       "      <td>233</td>\n",
       "    </tr>\n",
       "    <tr>\n",
       "      <th>2</th>\n",
       "      <td>2011</td>\n",
       "      <td>Czechia</td>\n",
       "      <td>20972.5</td>\n",
       "      <td>13383.5</td>\n",
       "      <td>714</td>\n",
       "      <td>2336</td>\n",
       "      <td>2073</td>\n",
       "      <td>714</td>\n",
       "    </tr>\n",
       "    <tr>\n",
       "      <th>3</th>\n",
       "      <td>2011</td>\n",
       "      <td>Denmark</td>\n",
       "      <td>9022.0</td>\n",
       "      <td>4445.0</td>\n",
       "      <td>250</td>\n",
       "      <td>1954</td>\n",
       "      <td>890</td>\n",
       "      <td>250</td>\n",
       "    </tr>\n",
       "    <tr>\n",
       "      <th>4</th>\n",
       "      <td>2011</td>\n",
       "      <td>Germany (until 1990 former territory of the FRG)</td>\n",
       "      <td>127461.0</td>\n",
       "      <td>74029.0</td>\n",
       "      <td>7411</td>\n",
       "      <td>15593</td>\n",
       "      <td>18020</td>\n",
       "      <td>7411</td>\n",
       "    </tr>\n",
       "  </tbody>\n",
       "</table>\n",
       "</div>"
      ],
      "text/plain": [
       "   TIME                                              Pais  \\\n",
       "0  2011                                           Belgium   \n",
       "1  2011                                          Bulgaria   \n",
       "2  2011                                           Czechia   \n",
       "3  2011                                           Denmark   \n",
       "4  2011  Germany (until 1990 former territory of the FRG)   \n",
       "\n",
       "   Mortalidad_Prevenible  Mortalidad_Tratable  Mortalidad_A00_B99  \\\n",
       "0                15883.5               7459.5                1148   \n",
       "1                15459.5              13422.5                 233   \n",
       "2                20972.5              13383.5                 714   \n",
       "3                 9022.0               4445.0                 250   \n",
       "4               127461.0              74029.0                7411   \n",
       "\n",
       "   Mortalidad_G00_R50  Mortalidad_pneumonia  Other_sepsis  \n",
       "0                2994                  3260          1148  \n",
       "1                1227                  1200           233  \n",
       "2                2336                  2073           714  \n",
       "3                1954                   890           250  \n",
       "4               15593                 18020          7411  "
      ]
     },
     "execution_count": 3,
     "metadata": {},
     "output_type": "execute_result"
    }
   ],
   "source": [
    "#Visualización del archivo mortalidad y sus atributos\n",
    "mortalidad.head()"
   ]
  },
  {
   "cell_type": "code",
   "execution_count": 4,
   "metadata": {},
   "outputs": [
    {
     "name": "stdout",
     "output_type": "stream",
     "text": [
      "Estadística Descriptiva: \n",
      "               TIME  Mortalidad_Prevenible  Mortalidad_Tratable  \\\n",
      "count   238.000000             238.000000           238.000000   \n",
      "mean   2014.000000           25246.100840         14927.031513   \n",
      "std       2.004215           30574.832229         18278.457000   \n",
      "min    2011.000000              31.000000            16.000000   \n",
      "25%    2012.000000            5565.625000          2889.500000   \n",
      "50%    2014.000000           12088.250000          6690.000000   \n",
      "75%    2016.000000           30437.500000         16564.875000   \n",
      "max    2017.000000          127461.000000         74029.000000   \n",
      "\n",
      "       Mortalidad_A00_B99  Mortalidad_G00_R50  Mortalidad_pneumonia  \\\n",
      "count          238.000000          238.000000            238.000000   \n",
      "mean          1335.323529         3958.537815           3890.247899   \n",
      "std           2136.041623         5241.106308           6172.407590   \n",
      "min              1.000000            1.000000              1.000000   \n",
      "25%             76.750000          653.750000            347.500000   \n",
      "50%            288.000000         1488.500000           1150.000000   \n",
      "75%           1435.750000         4149.250000           5160.250000   \n",
      "max           9656.000000        22501.000000          31593.000000   \n",
      "\n",
      "       Other_sepsis  \n",
      "count    238.000000  \n",
      "mean    1335.323529  \n",
      "std     2136.041623  \n",
      "min        1.000000  \n",
      "25%       76.750000  \n",
      "50%      288.000000  \n",
      "75%     1435.750000  \n",
      "max     9656.000000  \n"
     ]
    },
    {
     "data": {
      "image/png": "[encoded data removed]",
      "text/plain": [
       "<Figure size 720x144 with 3 Axes>"
      ]
     },
     "metadata": {
      "needs_background": "light"
     },
     "output_type": "display_data"
    }
   ],
   "source": [
    "#Visualización de las variables antes de procesarlas para que tengan el mismo peso\n",
    "#Histograma\n",
    "fix,ax=plt.subplots(1,3,figsize=(10,2))#Creamos las figuras\n",
    "atributos=[\"Mortalidad_Prevenible\",\"Mortalidad_Tratable\",\"Mortalidad_pneumonia\"]#Atributos de estudio\n",
    "for i,atr in enumerate(atributos): #Por cada atributo y por cada clase de mortalidad...\n",
    "    ax[i].hist(mortalidad.loc[:, atr], alpha=0.5)\n",
    "    ax[i].set_title(atr)\n",
    "    \n",
    "#Estadística descriptiva\n",
    "print ('Estadística Descriptiva: \\n',mortalidad.describe())"
   ]
  },
  {
   "cell_type": "markdown",
   "metadata": {},
   "source": [
    "De las gráficas se deduce que las mortalidades más frecuentes se encuentran en el rango [0,20000] unidades."
   ]
  },
  {
   "cell_type": "code",
   "execution_count": 5,
   "metadata": {},
   "outputs": [
    {
     "name": "stdout",
     "output_type": "stream",
     "text": [
      "DIAGRAMAS DE CAJA: Mortalidad_Prevenible, Mortalidad_Tratable, Mortalidad_pneumonia\n"
     ]
    },
    {
     "data": {
      "image/png": "[encoded data removed]",
      "text/plain": [
       "<Figure size 432x288 with 1 Axes>"
      ]
     },
     "metadata": {},
     "output_type": "display_data"
    },
    {
     "name": "stdout",
     "output_type": "stream",
     "text": [
      "Diagrama de caja:  Mortalidad_Prevenible\n"
     ]
    },
    {
     "data": {
      "image/png": "[encoded data removed]",
      "text/plain": [
       "<Figure size 432x288 with 1 Axes>"
      ]
     },
     "metadata": {},
     "output_type": "display_data"
    },
    {
     "name": "stdout",
     "output_type": "stream",
     "text": [
      "Diagrama de caja:  Mortalidad_Tratable\n"
     ]
    },
    {
     "data": {
      "image/png": "[encoded data removed]",
      "text/plain": [
       "<Figure size 432x288 with 1 Axes>"
      ]
     },
     "metadata": {},
     "output_type": "display_data"
    },
    {
     "name": "stdout",
     "output_type": "stream",
     "text": [
      "Diagrama de caja:  Mortalidad_pneumonia\n"
     ]
    },
    {
     "data": {
      "image/png": "[encoded data removed]",
      "text/plain": [
       "<Figure size 432x288 with 1 Axes>"
      ]
     },
     "metadata": {},
     "output_type": "display_data"
    }
   ],
   "source": [
    "#Diagramas de caja \n",
    "\n",
    "sns.set(style=\"whitegrid\")\n",
    "print(\"DIAGRAMAS DE CAJA: Mortalidad_Prevenible, Mortalidad_Tratable, Mortalidad_pneumonia\")\n",
    "ax = sns.boxplot(data=mortalidad, orient='h',palette=\"Set2\")\n",
    "plt.show()\n",
    "for j,atr2 in enumerate (atributos):\n",
    "    print (\"Diagrama de caja: \", atr2)\n",
    "    ax2 = sns.boxplot(x=mortalidad[atr2])\n",
    "    plt.show()"
   ]
  },
  {
   "cell_type": "code",
   "execution_count": 6,
   "metadata": {},
   "outputs": [
    {
     "data": {
      "text/html": [
       "<div>\n",
       "<style scoped>\n",
       "    .dataframe tbody tr th:only-of-type {\n",
       "        vertical-align: middle;\n",
       "    }\n",
       "\n",
       "    .dataframe tbody tr th {\n",
       "        vertical-align: top;\n",
       "    }\n",
       "\n",
       "    .dataframe thead th {\n",
       "        text-align: right;\n",
       "    }\n",
       "</style>\n",
       "<table border=\"1\" class=\"dataframe\">\n",
       "  <thead>\n",
       "    <tr style=\"text-align: right;\">\n",
       "      <th></th>\n",
       "      <th>Mortalidad_Prevenible</th>\n",
       "      <th>Mortalidad_Tratable</th>\n",
       "      <th>Mortalidad_pneumonia</th>\n",
       "    </tr>\n",
       "  </thead>\n",
       "  <tbody>\n",
       "    <tr>\n",
       "      <th>0</th>\n",
       "      <td>0.124402</td>\n",
       "      <td>0.100570</td>\n",
       "      <td>0.103159</td>\n",
       "    </tr>\n",
       "    <tr>\n",
       "      <th>1</th>\n",
       "      <td>0.121074</td>\n",
       "      <td>0.181137</td>\n",
       "      <td>0.037953</td>\n",
       "    </tr>\n",
       "    <tr>\n",
       "      <th>2</th>\n",
       "      <td>0.164337</td>\n",
       "      <td>0.180610</td>\n",
       "      <td>0.065586</td>\n",
       "    </tr>\n",
       "    <tr>\n",
       "      <th>3</th>\n",
       "      <td>0.070556</td>\n",
       "      <td>0.059841</td>\n",
       "      <td>0.028140</td>\n",
       "    </tr>\n",
       "    <tr>\n",
       "      <th>4</th>\n",
       "      <td>1.000000</td>\n",
       "      <td>1.000000</td>\n",
       "      <td>0.570366</td>\n",
       "    </tr>\n",
       "    <tr>\n",
       "      <th>...</th>\n",
       "      <td>...</td>\n",
       "      <td>...</td>\n",
       "      <td>...</td>\n",
       "    </tr>\n",
       "    <tr>\n",
       "      <th>233</th>\n",
       "      <td>0.042188</td>\n",
       "      <td>0.037318</td>\n",
       "      <td>0.049854</td>\n",
       "    </tr>\n",
       "    <tr>\n",
       "      <th>234</th>\n",
       "      <td>0.063921</td>\n",
       "      <td>0.052038</td>\n",
       "      <td>0.042068</td>\n",
       "    </tr>\n",
       "    <tr>\n",
       "      <th>235</th>\n",
       "      <td>0.683732</td>\n",
       "      <td>0.687231</td>\n",
       "      <td>0.934287</td>\n",
       "    </tr>\n",
       "    <tr>\n",
       "      <th>236</th>\n",
       "      <td>0.126634</td>\n",
       "      <td>0.159553</td>\n",
       "      <td>0.039947</td>\n",
       "    </tr>\n",
       "    <tr>\n",
       "      <th>237</th>\n",
       "      <td>0.652892</td>\n",
       "      <td>0.888952</td>\n",
       "      <td>0.407160</td>\n",
       "    </tr>\n",
       "  </tbody>\n",
       "</table>\n",
       "<p>238 rows × 3 columns</p>\n",
       "</div>"
      ],
      "text/plain": [
       "     Mortalidad_Prevenible  Mortalidad_Tratable  Mortalidad_pneumonia\n",
       "0                 0.124402             0.100570              0.103159\n",
       "1                 0.121074             0.181137              0.037953\n",
       "2                 0.164337             0.180610              0.065586\n",
       "3                 0.070556             0.059841              0.028140\n",
       "4                 1.000000             1.000000              0.570366\n",
       "..                     ...                  ...                   ...\n",
       "233               0.042188             0.037318              0.049854\n",
       "234               0.063921             0.052038              0.042068\n",
       "235               0.683732             0.687231              0.934287\n",
       "236               0.126634             0.159553              0.039947\n",
       "237               0.652892             0.888952              0.407160\n",
       "\n",
       "[238 rows x 3 columns]"
      ]
     },
     "execution_count": 6,
     "metadata": {},
     "output_type": "execute_result"
    }
   ],
   "source": [
    "#Normalización de variables para que tengan el mismo peso\n",
    "#Importamos primero las librerias necesarias.\n",
    "#La normalización aplicada en este caso sigue la siguiente formula:\n",
    "#normalización = ( x – min(x) ) / ( max(x) – min(x) )\n",
    "\n",
    "#Importamos las librerías necesarias\n",
    "from sklearn.preprocessing import MinMaxScaler\n",
    "\n",
    "scaler=MinMaxScaler()\n",
    "\n",
    "\n",
    "mortalidad_2=pd.DataFrame(mortalidad,columns=['Mortalidad_Prevenible', 'Mortalidad_Tratable', 'Mortalidad_pneumonia'])\n",
    "mortalidad_vnorm=scaler.fit_transform(mortalidad_2)\n",
    "mortalidad_vnorm=pd.DataFrame(mortalidad_vnorm,columns=['Mortalidad_Prevenible', 'Mortalidad_Tratable', 'Mortalidad_pneumonia'])\n",
    "mortalidad_vnorm"
   ]
  },
  {
   "cell_type": "code",
   "execution_count": 7,
   "metadata": {},
   "outputs": [
    {
     "data": {
      "text/html": [
       "<div>\n",
       "<style scoped>\n",
       "    .dataframe tbody tr th:only-of-type {\n",
       "        vertical-align: middle;\n",
       "    }\n",
       "\n",
       "    .dataframe tbody tr th {\n",
       "        vertical-align: top;\n",
       "    }\n",
       "\n",
       "    .dataframe thead th {\n",
       "        text-align: right;\n",
       "    }\n",
       "</style>\n",
       "<table border=\"1\" class=\"dataframe\">\n",
       "  <thead>\n",
       "    <tr style=\"text-align: right;\">\n",
       "      <th></th>\n",
       "      <th>Mortalidad_Prevenible</th>\n",
       "      <th>Mortalidad_Tratable</th>\n",
       "      <th>Mortalidad_pneumonia</th>\n",
       "      <th>TIME</th>\n",
       "      <th>Pais</th>\n",
       "    </tr>\n",
       "  </thead>\n",
       "  <tbody>\n",
       "    <tr>\n",
       "      <th>0</th>\n",
       "      <td>0.124402</td>\n",
       "      <td>0.100570</td>\n",
       "      <td>0.103159</td>\n",
       "      <td>2011</td>\n",
       "      <td>Belgium</td>\n",
       "    </tr>\n",
       "    <tr>\n",
       "      <th>1</th>\n",
       "      <td>0.121074</td>\n",
       "      <td>0.181137</td>\n",
       "      <td>0.037953</td>\n",
       "      <td>2011</td>\n",
       "      <td>Bulgaria</td>\n",
       "    </tr>\n",
       "    <tr>\n",
       "      <th>2</th>\n",
       "      <td>0.164337</td>\n",
       "      <td>0.180610</td>\n",
       "      <td>0.065586</td>\n",
       "      <td>2011</td>\n",
       "      <td>Czechia</td>\n",
       "    </tr>\n",
       "    <tr>\n",
       "      <th>3</th>\n",
       "      <td>0.070556</td>\n",
       "      <td>0.059841</td>\n",
       "      <td>0.028140</td>\n",
       "      <td>2011</td>\n",
       "      <td>Denmark</td>\n",
       "    </tr>\n",
       "    <tr>\n",
       "      <th>4</th>\n",
       "      <td>1.000000</td>\n",
       "      <td>1.000000</td>\n",
       "      <td>0.570366</td>\n",
       "      <td>2011</td>\n",
       "      <td>Germany (until 1990 former territory of the FRG)</td>\n",
       "    </tr>\n",
       "    <tr>\n",
       "      <th>...</th>\n",
       "      <td>...</td>\n",
       "      <td>...</td>\n",
       "      <td>...</td>\n",
       "      <td>...</td>\n",
       "      <td>...</td>\n",
       "    </tr>\n",
       "    <tr>\n",
       "      <th>233</th>\n",
       "      <td>0.042188</td>\n",
       "      <td>0.037318</td>\n",
       "      <td>0.049854</td>\n",
       "      <td>2017</td>\n",
       "      <td>Norway</td>\n",
       "    </tr>\n",
       "    <tr>\n",
       "      <th>234</th>\n",
       "      <td>0.063921</td>\n",
       "      <td>0.052038</td>\n",
       "      <td>0.042068</td>\n",
       "      <td>2017</td>\n",
       "      <td>Switzerland</td>\n",
       "    </tr>\n",
       "    <tr>\n",
       "      <th>235</th>\n",
       "      <td>0.683732</td>\n",
       "      <td>0.687231</td>\n",
       "      <td>0.934287</td>\n",
       "      <td>2017</td>\n",
       "      <td>United Kingdom</td>\n",
       "    </tr>\n",
       "    <tr>\n",
       "      <th>236</th>\n",
       "      <td>0.126634</td>\n",
       "      <td>0.159553</td>\n",
       "      <td>0.039947</td>\n",
       "      <td>2017</td>\n",
       "      <td>Serbia</td>\n",
       "    </tr>\n",
       "    <tr>\n",
       "      <th>237</th>\n",
       "      <td>0.652892</td>\n",
       "      <td>0.888952</td>\n",
       "      <td>0.407160</td>\n",
       "      <td>2017</td>\n",
       "      <td>Turkey</td>\n",
       "    </tr>\n",
       "  </tbody>\n",
       "</table>\n",
       "<p>238 rows × 5 columns</p>\n",
       "</div>"
      ],
      "text/plain": [
       "     Mortalidad_Prevenible  Mortalidad_Tratable  Mortalidad_pneumonia  TIME  \\\n",
       "0                 0.124402             0.100570              0.103159  2011   \n",
       "1                 0.121074             0.181137              0.037953  2011   \n",
       "2                 0.164337             0.180610              0.065586  2011   \n",
       "3                 0.070556             0.059841              0.028140  2011   \n",
       "4                 1.000000             1.000000              0.570366  2011   \n",
       "..                     ...                  ...                   ...   ...   \n",
       "233               0.042188             0.037318              0.049854  2017   \n",
       "234               0.063921             0.052038              0.042068  2017   \n",
       "235               0.683732             0.687231              0.934287  2017   \n",
       "236               0.126634             0.159553              0.039947  2017   \n",
       "237               0.652892             0.888952              0.407160  2017   \n",
       "\n",
       "                                                 Pais  \n",
       "0                                             Belgium  \n",
       "1                                            Bulgaria  \n",
       "2                                             Czechia  \n",
       "3                                             Denmark  \n",
       "4    Germany (until 1990 former territory of the FRG)  \n",
       "..                                                ...  \n",
       "233                                            Norway  \n",
       "234                                       Switzerland  \n",
       "235                                    United Kingdom  \n",
       "236                                            Serbia  \n",
       "237                                            Turkey  \n",
       "\n",
       "[238 rows x 5 columns]"
      ]
     },
     "execution_count": 7,
     "metadata": {},
     "output_type": "execute_result"
    }
   ],
   "source": [
    "#Añadimos las columnas de TIME y Pais al dataframe\n",
    "mortalidad_df=pd.DataFrame(mortalidad_vnorm,columns=['Mortalidad_Prevenible', 'Mortalidad_Tratable', 'Mortalidad_pneumonia'])\n",
    "mortalidad_df['TIME']=mortalidad.loc[:,\"TIME\"]\n",
    "mortalidad_df['Pais']=mortalidad.loc[:,\"Pais\"]\n",
    "mortalidad_df"
   ]
  },
  {
   "cell_type": "markdown",
   "metadata": {},
   "source": [
    "\n",
    "Para estimar el número de Clusters a detectar por *k-means* se utiliza lo que popularmente se conoce como *regla del codo*.\n",
    "\n",
    "Primero es necesario calcular la suma de los errores cuadráticos ([*SSE*](https://bl.ocks.org/rpgove/0060ff3b656618e9136b)) que consiste en la suma de todos los errores (distancia de cada punto a su centroide asignado) al cuadrado.\n",
    "\n",
    "$$SSE = \\sum_{i=1}^{K} \\sum_{x \\in C_i} euclidean(x, c_i)^2$$\n",
    "\n",
    "Donde $K$ es el número de clusters a buscar por *k-means*, $x \\in C_i$ son los puntos que pertenecen a i-ésimo cluster, $c_i$ es el centroide del cluster $C_i$ (al pertenece el punto $x$), y $euclidean$ es la [distancia euclídea](https://en.wikipedia.org/wiki/Euclidean_distance).\n",
    "\n",
    "Este procedimiento realizado para cada posible valor $k$, resulta en una función monótona decreciente, donde el eje $x$ representa los distintos valores de $k$, y el eje $y$ el $SSE$. Intuitivamente se observa un significativo descenso del error, que indicará el valor idóneo de $k$.\n"
   ]
  },
  {
   "cell_type": "code",
   "execution_count": 8,
   "metadata": {},
   "outputs": [
    {
     "data": {
      "image/png": "[encoded data removed]",
      "text/plain": [
       "<Figure size 432x288 with 1 Axes>"
      ]
     },
     "metadata": {},
     "output_type": "display_data"
    }
   ],
   "source": [
    "#CURVA DEL CODO\n",
    "\n",
    "Nc = range(1, 20)\n",
    "kmeans = [KMeans(n_clusters=i) for i in Nc]\n",
    "\n",
    "wcss=[] #Within cluster sum of squares\n",
    "for i in range (1,20): #Rango de 1 a 20\n",
    "    kmeans=KMeans(n_clusters= i, max_iter=300)#Modelo con el método de Kmeans, 300 iteraciones para cada kmeans\n",
    "    kmeans.fit(mortalidad_vnorm)#Aplicamos el modelo\n",
    "    wcss.append(kmeans.inertia_)# SSE\n",
    "\n",
    "plt.plot(range(1,20), wcss)\n",
    "plt.title('Método del codo')\n",
    "plt.xlabel('Número de clusters')\n",
    "plt.ylabel('WCSS')#Indica como de similares son los individuos dentro del cluster.\n",
    "plt.show()"
   ]
  },
  {
   "cell_type": "code",
   "execution_count": 9,
   "metadata": {},
   "outputs": [
    {
     "name": "stdout",
     "output_type": "stream",
     "text": [
      "Centroides: \n",
      " [[0.07628674 0.07699895 0.03660441]\n",
      " [0.51315732 0.52413968 0.28356309]\n",
      " [0.79272272 0.81058015 0.705958  ]]\n",
      "   TIME                                              Pais  \\\n",
      "0  2011                                           Belgium   \n",
      "1  2011                                          Bulgaria   \n",
      "2  2011                                           Czechia   \n",
      "3  2011                                           Denmark   \n",
      "4  2011  Germany (until 1990 former territory of the FRG)   \n",
      "\n",
      "   Mortalidad_Prevenible  Mortalidad_Tratable  Mortalidad_A00_B99  \\\n",
      "0                15883.5               7459.5                1148   \n",
      "1                15459.5              13422.5                 233   \n",
      "2                20972.5              13383.5                 714   \n",
      "3                 9022.0               4445.0                 250   \n",
      "4               127461.0              74029.0                7411   \n",
      "\n",
      "   Mortalidad_G00_R50  Mortalidad_pneumonia  Other_sepsis  Kmeans_clusters  \n",
      "0                2994                  3260          1148                0  \n",
      "1                1227                  1200           233                0  \n",
      "2                2336                  2073           714                0  \n",
      "3                1954                   890           250                0  \n",
      "4               15593                 18020          7411                2  \n"
     ]
    }
   ],
   "source": [
    "#Aplicando el modelo Kmeans al dataset\n",
    "clustering=KMeans(n_clusters=3,max_iter=300)#Creamos el modelo\n",
    "clustering.fit(mortalidad_vnorm)#Aplicamos el modelo\n",
    "\n",
    "mortalidad['Kmeans_clusters']=clustering.labels_\n",
    "mortalidad_vnorm['Kmeans_clusters']=clustering.labels_\n",
    "\n",
    "print ('Centroides: \\n',clustering.cluster_centers_)\n",
    "print(mortalidad.head())\n",
    "\n"
   ]
  },
  {
   "cell_type": "code",
   "execution_count": 10,
   "metadata": {},
   "outputs": [
    {
     "name": "stdout",
     "output_type": "stream",
     "text": [
      "Países agrupados en 0: \n",
      " ['Belgium', 'Bulgaria', 'Czechia', 'Denmark', 'Estonia', 'Ireland', 'Greece', 'Croatia', 'Cyprus', 'Latvia', 'Lithuania', 'Luxembourg', 'Hungary', 'Malta', 'Netherlands', 'Austria', 'Portugal', 'Slovenia', 'Slovakia', 'Finland', 'Sweden', 'Iceland', 'Liechtenstein', 'Norway', 'Switzerland', 'Serbia']\n",
      "Países agrupados en 1: \n",
      " ['Spain', 'France', 'Italy', 'Poland', 'Romania', 'Turkey']\n",
      "Países agrupados en 2: \n",
      " ['Germany (until 1990 former territory of the FRG)', 'United Kingdom']\n"
     ]
    }
   ],
   "source": [
    "#PARA 2011 Y MORTALIDAD\n",
    "#=======================\n",
    "is_2011=mortalidad.loc[:,\"TIME\"]==2011 #Se selecciona los registros para 2011\n",
    "mortalidad_2011=mortalidad[is_2011]\n",
    "\n",
    "#Se generan listas con los paises agrupados por similitud en la mortalidad\n",
    "paises_0=[]\n",
    "paises_1=[]\n",
    "paises_2=[]\n",
    "\n",
    "for i in range (0,len(mortalidad_2011)):\n",
    "    if mortalidad_2011.iloc[i,8]==0: #Si en la columna cluster , ese registro tiene valor 0\n",
    "        paises_0.append(mortalidad_2011.iloc[i,1])#Se añade el nombre del Pais a la lista de paises_0\n",
    "    elif mortalidad_2011.iloc[i,8]==1:\n",
    "        paises_1.append(mortalidad_2011.iloc[i,1])\n",
    "    else: paises_2.append(mortalidad_2011.iloc[i,1])\n",
    "print (\"Países agrupados en 0: \\n {}\".format(paises_0))\n",
    "print (\"Países agrupados en 1: \\n {}\".format(paises_1))\n",
    "print (\"Países agrupados en 2: \\n {}\".format(paises_2))"
   ]
  },
  {
   "cell_type": "code",
   "execution_count": 11,
   "metadata": {},
   "outputs": [
    {
     "name": "stdout",
     "output_type": "stream",
     "text": [
      "Países agrupados en 0: \n",
      " ['Belgium', 'Bulgaria', 'Czechia', 'Denmark', 'Estonia', 'Ireland', 'Greece', 'Croatia', 'Cyprus', 'Latvia', 'Lithuania', 'Luxembourg', 'Hungary', 'Malta', 'Netherlands', 'Austria', 'Portugal', 'Slovenia', 'Slovakia', 'Finland', 'Sweden', 'Iceland', 'Liechtenstein', 'Norway', 'Switzerland', 'Serbia']\n",
      "Países agrupados en 1: \n",
      " ['Spain', 'France', 'Italy', 'Poland', 'Romania', 'Turkey']\n",
      "Países agrupados en 2: \n",
      " ['Germany (until 1990 former territory of the FRG)', 'United Kingdom']\n"
     ]
    }
   ],
   "source": [
    "#PARA 2012 Y MORTALIDAD\n",
    "#=======================\n",
    "is_2012=mortalidad.loc[:,\"TIME\"]==2013 #Se selecciona los registros para 2011\n",
    "mortalidad_2012=mortalidad[is_2012]\n",
    "\n",
    "#Se generan listas con los paises agrupados por similitud en la mortalidad\n",
    "paises_0=[]\n",
    "paises_1=[]\n",
    "paises_2=[]\n",
    "for i in range (0,len(mortalidad_2012)):\n",
    "    if mortalidad_2012.iloc[i,8]==0:\n",
    "        paises_0.append(mortalidad_2012.iloc[i,1])\n",
    "    elif mortalidad_2012.iloc[i,8]==1:\n",
    "        paises_1.append(mortalidad_2012.iloc[i,1])\n",
    "    else: paises_2.append(mortalidad_2012.iloc[i,1])\n",
    "print (\"Países agrupados en 0: \\n {}\".format(paises_0))\n",
    "print (\"Países agrupados en 1: \\n {}\".format(paises_1))\n",
    "print (\"Países agrupados en 2: \\n {}\".format(paises_2))\n"
   ]
  },
  {
   "cell_type": "code",
   "execution_count": 12,
   "metadata": {},
   "outputs": [
    {
     "name": "stdout",
     "output_type": "stream",
     "text": [
      "Países agrupados en 0: \n",
      " ['Belgium', 'Bulgaria', 'Czechia', 'Denmark', 'Estonia', 'Ireland', 'Greece', 'Croatia', 'Cyprus', 'Latvia', 'Lithuania', 'Luxembourg', 'Hungary', 'Malta', 'Netherlands', 'Austria', 'Portugal', 'Slovenia', 'Slovakia', 'Finland', 'Sweden', 'Iceland', 'Liechtenstein', 'Norway', 'Switzerland', 'Serbia']\n",
      "Países agrupados en 1: \n",
      " ['Spain', 'France', 'Italy', 'Poland', 'Romania', 'Turkey']\n",
      "Países agrupados en 2: \n",
      " ['Germany (until 1990 former territory of the FRG)', 'United Kingdom']\n"
     ]
    }
   ],
   "source": [
    "#PARA 2013 Y MORTALIDAD\n",
    "#=======================\n",
    "is_2013=mortalidad.loc[:,\"TIME\"]==2013 #Se selecciona los registros para 2011\n",
    "mortalidad_2013=mortalidad[is_2013]\n",
    "\n",
    "#Se generan listas con los paises agrupados por similitud en la mortalidad\n",
    "paises_0=[]\n",
    "paises_1=[]\n",
    "paises_2=[]\n",
    "for i in range (0,len(mortalidad_2013)):\n",
    "    if mortalidad_2013.iloc[i,8]==0:\n",
    "        paises_0.append(mortalidad_2013.iloc[i,1])\n",
    "    elif mortalidad_2013.iloc[i,8]==1:\n",
    "        paises_1.append(mortalidad_2013.iloc[i,1])\n",
    "    else: paises_2.append(mortalidad_2013.iloc[i,1])\n",
    "print (\"Países agrupados en 0: \\n {}\".format(paises_0))\n",
    "print (\"Países agrupados en 1: \\n {}\".format(paises_1))\n",
    "print (\"Países agrupados en 2: \\n {}\".format(paises_2))"
   ]
  },
  {
   "cell_type": "code",
   "execution_count": 13,
   "metadata": {},
   "outputs": [
    {
     "name": "stdout",
     "output_type": "stream",
     "text": [
      "Países agrupados en 0: \n",
      " ['Belgium', 'Bulgaria', 'Czechia', 'Denmark', 'Estonia', 'Ireland', 'Greece', 'Croatia', 'Cyprus', 'Latvia', 'Lithuania', 'Luxembourg', 'Hungary', 'Malta', 'Netherlands', 'Austria', 'Portugal', 'Slovenia', 'Slovakia', 'Finland', 'Sweden', 'Iceland', 'Liechtenstein', 'Norway', 'Switzerland', 'Serbia']\n",
      "Países agrupados en 1: \n",
      " ['Spain', 'France', 'Italy', 'Poland', 'Romania', 'Turkey']\n",
      "Países agrupados en 2: \n",
      " ['Germany (until 1990 former territory of the FRG)', 'United Kingdom']\n"
     ]
    }
   ],
   "source": [
    "#PARA 2014 Y MORTALIDAD\n",
    "#=======================\n",
    "is_2014=mortalidad.loc[:,\"TIME\"]==2014 #Se selecciona los registros para 2011\n",
    "mortalidad_2014=mortalidad[is_2014]\n",
    "\n",
    "#Se generan listas con los paises agrupados por similitud en la mortalidad\n",
    "paises_0=[]\n",
    "paises_1=[]\n",
    "paises_2=[]\n",
    "for i in range (0,len(mortalidad_2014)):\n",
    "    if mortalidad_2014.iloc[i,8]==0:\n",
    "        paises_0.append(mortalidad_2014.iloc[i,1])\n",
    "    elif mortalidad_2014.iloc[i,8]==1:\n",
    "        paises_1.append(mortalidad_2014.iloc[i,1])\n",
    "    else: paises_2.append(mortalidad_2014.iloc[i,1])\n",
    "print (\"Países agrupados en 0: \\n {}\".format(paises_0))\n",
    "print (\"Países agrupados en 1: \\n {}\".format(paises_1))\n",
    "print (\"Países agrupados en 2: \\n {}\".format(paises_2))"
   ]
  },
  {
   "cell_type": "code",
   "execution_count": 14,
   "metadata": {},
   "outputs": [
    {
     "name": "stdout",
     "output_type": "stream",
     "text": [
      "Países agrupados en 0: \n",
      " ['Belgium', 'Bulgaria', 'Czechia', 'Denmark', 'Estonia', 'Ireland', 'Greece', 'Croatia', 'Cyprus', 'Latvia', 'Lithuania', 'Luxembourg', 'Hungary', 'Malta', 'Netherlands', 'Austria', 'Portugal', 'Slovenia', 'Slovakia', 'Finland', 'Sweden', 'Iceland', 'Liechtenstein', 'Norway', 'Switzerland', 'Serbia']\n",
      "Países agrupados en 1: \n",
      " ['Spain', 'France', 'Italy', 'Poland', 'Romania', 'Turkey']\n",
      "Países agrupados en 2: \n",
      " ['Germany (until 1990 former territory of the FRG)', 'United Kingdom']\n"
     ]
    }
   ],
   "source": [
    "#PARA 2015 Y MORTALIDAD\n",
    "#=======================\n",
    "is_2015=mortalidad.loc[:,\"TIME\"]==2015 #Se selecciona los registros para 2011\n",
    "mortalidad_2015=mortalidad[is_2015]\n",
    "\n",
    "#Se generan listas con los paises agrupados por similitud en la mortalidad\n",
    "paises_0=[]\n",
    "paises_1=[]\n",
    "paises_2=[]\n",
    "for i in range (0,len(mortalidad_2015)):\n",
    "    if mortalidad_2015.iloc[i,8]==0:\n",
    "        paises_0.append(mortalidad_2015.iloc[i,1])\n",
    "    elif mortalidad_2014.iloc[i,8]==1:\n",
    "        paises_1.append(mortalidad_2015.iloc[i,1])\n",
    "    else: paises_2.append(mortalidad_2015.iloc[i,1])\n",
    "print (\"Países agrupados en 0: \\n {}\".format(paises_0))\n",
    "print (\"Países agrupados en 1: \\n {}\".format(paises_1))\n",
    "print (\"Países agrupados en 2: \\n {}\".format(paises_2))"
   ]
  },
  {
   "cell_type": "code",
   "execution_count": 15,
   "metadata": {},
   "outputs": [
    {
     "name": "stdout",
     "output_type": "stream",
     "text": [
      "Países agrupados en 0: \n",
      " ['Belgium', 'Bulgaria', 'Czechia', 'Denmark', 'Estonia', 'Ireland', 'Greece', 'Croatia', 'Cyprus', 'Latvia', 'Lithuania', 'Luxembourg', 'Hungary', 'Malta', 'Netherlands', 'Austria', 'Portugal', 'Slovenia', 'Slovakia', 'Finland', 'Sweden', 'Iceland', 'Liechtenstein', 'Norway', 'Switzerland', 'Serbia']\n",
      "Países agrupados en 1: \n",
      " ['Spain', 'France', 'Italy', 'Poland', 'Romania']\n",
      "Países agrupados en 2: \n",
      " ['Germany (until 1990 former territory of the FRG)', 'United Kingdom', 'Turkey']\n"
     ]
    }
   ],
   "source": [
    "#PARA 2016 Y MORTALIDAD\n",
    "#=======================\n",
    "is_2016=mortalidad.loc[:,\"TIME\"]==2016 #Se selecciona los registros para 2011\n",
    "mortalidad_2016=mortalidad[is_2016]\n",
    "\n",
    "#Se generan listas con los paises agrupados por similitud en la mortalidad\n",
    "paises_0=[]\n",
    "paises_1=[]\n",
    "paises_2=[]\n",
    "for i in range (0,len(mortalidad_2016)):\n",
    "    if mortalidad_2015.iloc[i,8]==0:\n",
    "        paises_0.append(mortalidad_2016.iloc[i,1])\n",
    "    elif mortalidad_2016.iloc[i,8]==1:\n",
    "        paises_1.append(mortalidad_2016.iloc[i,1])\n",
    "    else: paises_2.append(mortalidad_2016.iloc[i,1])\n",
    "print (\"Países agrupados en 0: \\n {}\".format(paises_0))\n",
    "print (\"Países agrupados en 1: \\n {}\".format(paises_1))\n",
    "print (\"Países agrupados en 2: \\n {}\".format(paises_2))"
   ]
  },
  {
   "cell_type": "code",
   "execution_count": 16,
   "metadata": {},
   "outputs": [
    {
     "name": "stdout",
     "output_type": "stream",
     "text": [
      "Países agrupados en 0: \n",
      " ['Belgium', 'Bulgaria', 'Czechia', 'Denmark', 'Estonia', 'Ireland', 'Greece', 'Croatia', 'Cyprus', 'Latvia', 'Lithuania', 'Luxembourg', 'Hungary', 'Malta', 'Netherlands', 'Austria', 'Portugal', 'Slovenia', 'Slovakia', 'Finland', 'Sweden', 'Iceland', 'Liechtenstein', 'Norway', 'Switzerland', 'Serbia']\n",
      "Países agrupados en 1: \n",
      " ['Spain', 'France', 'Italy', 'Poland', 'Romania']\n",
      "Países agrupados en 2: \n",
      " ['Germany (until 1990 former territory of the FRG)', 'United Kingdom', 'Turkey']\n"
     ]
    }
   ],
   "source": [
    "#PARA 2017 Y MORTALIDAD\n",
    "#=======================\n",
    "is_2017=mortalidad.loc[:,\"TIME\"]==2017 #Se selecciona los registros para 2011\n",
    "mortalidad_2017=mortalidad[is_2017]\n",
    "\n",
    "#Se generan listas con los paises agrupados por similitud en la mortalidad\n",
    "paises_0=[]\n",
    "paises_1=[]\n",
    "paises_2=[]\n",
    "for i in range (0,len(mortalidad_2017)):\n",
    "    if mortalidad_2017.iloc[i,8]==0:\n",
    "        paises_0.append(mortalidad_2017.iloc[i,1])\n",
    "    elif mortalidad_2017.iloc[i,8]==1:\n",
    "        paises_1.append(mortalidad_2017.iloc[i,1])\n",
    "    else: paises_2.append(mortalidad_2017.iloc[i,1])\n",
    "print (\"Países agrupados en 0: \\n {}\".format(paises_0))\n",
    "print (\"Países agrupados en 1: \\n {}\".format(paises_1))\n",
    "print (\"Países agrupados en 2: \\n {}\".format(paises_2))"
   ]
  },
  {
   "cell_type": "markdown",
   "metadata": {},
   "source": [
    "**PREVENCIÓN**"
   ]
  },
  {
   "cell_type": "code",
   "execution_count": 17,
   "metadata": {},
   "outputs": [
    {
     "name": "stdout",
     "output_type": "stream",
     "text": [
      "<class 'pandas.core.frame.DataFrame'>\n",
      "RangeIndex: 360 entries, 0 to 359\n",
      "Data columns (total 5 columns):\n",
      " #   Column                           Non-Null Count  Dtype  \n",
      "---  ------                           --------------  -----  \n",
      " 0   TIME                             360 non-null    int64  \n",
      " 1   Pais                             360 non-null    object \n",
      " 2   Deteccion_cancer_mama            360 non-null    float64\n",
      " 3   Deteccion_cancer_cervix_uterino  360 non-null    float64\n",
      " 4   Vacunacion                       360 non-null    float64\n",
      "dtypes: float64(3), int64(1), object(1)\n",
      "memory usage: 14.2+ KB\n"
     ]
    }
   ],
   "source": [
    "#Visualización del archivo prevencion y sus atributos\n",
    "prevencion.head()\n",
    "prevencion.info()"
   ]
  },
  {
   "cell_type": "code",
   "execution_count": 18,
   "metadata": {},
   "outputs": [
    {
     "name": "stdout",
     "output_type": "stream",
     "text": [
      "Estadística Descriptiva: \n",
      "               TIME  Deteccion_cancer_mama  Deteccion_cancer_cervix_uterino  \\\n",
      "count   360.000000             360.000000                       360.000000   \n",
      "mean   2014.500000              68.791361                        69.488472   \n",
      "std       2.876279              12.092740                         9.835996   \n",
      "min    2010.000000               6.400000                        23.400000   \n",
      "25%    2012.000000              67.400000                        68.100000   \n",
      "50%    2014.500000              72.000000                        70.700000   \n",
      "75%    2017.000000              75.000000                        75.520000   \n",
      "max    2019.000000              90.400000                        87.200000   \n",
      "\n",
      "       Vacunacion  \n",
      "count  360.000000  \n",
      "mean    34.990722  \n",
      "std     19.963615  \n",
      "min      0.900000  \n",
      "25%     14.725000  \n",
      "50%     39.820000  \n",
      "75%     50.000000  \n",
      "max     74.000000  \n"
     ]
    },
    {
     "data": {
      "image/png": "[encoded data removed]",
      "text/plain": [
       "<Figure size 720x144 with 3 Axes>"
      ]
     },
     "metadata": {},
     "output_type": "display_data"
    }
   ],
   "source": [
    "#Visualización de las variables antes de procesarlas para que tengan el mismo peso\n",
    "#Histograma\n",
    "fix,ax=plt.subplots(1,3,figsize=(10,2))#Creamos las figuras\n",
    "atributos=[\"Deteccion_cancer_mama\",\"Deteccion_cancer_cervix_uterino\",\"Vacunacion\"]#Atributos de estudio\n",
    "for i,atr in enumerate(atributos): #Por cada atributo y por cada clase de actividad preventiva...\n",
    "    ax[i].hist(prevencion.loc[:, atr], alpha=0.5)\n",
    "    ax[i].set_title(atr)\n",
    "    \n",
    "#Estadística descriptiva\n",
    "print ('Estadística Descriptiva: \\n',prevencion.describe())"
   ]
  },
  {
   "cell_type": "code",
   "execution_count": 19,
   "metadata": {},
   "outputs": [
    {
     "name": "stdout",
     "output_type": "stream",
     "text": [
      "DIAGRAMAS DE CAJA: Deteccion_cancer_mama,Deteccion_cancer_cervix_uterino,Vacunacion\n"
     ]
    },
    {
     "data": {
      "image/png": "[encoded data removed]",
      "text/plain": [
       "<Figure size 432x288 with 1 Axes>"
      ]
     },
     "metadata": {},
     "output_type": "display_data"
    },
    {
     "name": "stdout",
     "output_type": "stream",
     "text": [
      "Diagrama de caja:  Deteccion_cancer_mama\n"
     ]
    },
    {
     "data": {
      "image/png": "[encoded data removed]",
      "text/plain": [
       "<Figure size 432x288 with 1 Axes>"
      ]
     },
     "metadata": {},
     "output_type": "display_data"
    },
    {
     "name": "stdout",
     "output_type": "stream",
     "text": [
      "Diagrama de caja:  Deteccion_cancer_cervix_uterino\n"
     ]
    },
    {
     "data": {
      "image/png": "[encoded data removed]",
      "text/plain": [
       "<Figure size 432x288 with 1 Axes>"
      ]
     },
     "metadata": {},
     "output_type": "display_data"
    },
    {
     "name": "stdout",
     "output_type": "stream",
     "text": [
      "Diagrama de caja:  Vacunacion\n"
     ]
    },
    {
     "data": {
      "image/png": "[encoded data removed]",
      "text/plain": [
       "<Figure size 432x288 with 1 Axes>"
      ]
     },
     "metadata": {},
     "output_type": "display_data"
    }
   ],
   "source": [
    "#Diagramas de caja \n",
    "\n",
    "sns.set(style=\"whitegrid\")\n",
    "print(\"DIAGRAMAS DE CAJA: Deteccion_cancer_mama,Deteccion_cancer_cervix_uterino,Vacunacion\")\n",
    "ax = sns.boxplot(data=prevencion, orient='h',palette=\"Set2\")\n",
    "plt.show()\n",
    "for j,atr2 in enumerate (atributos):\n",
    "    print (\"Diagrama de caja: \", atr2)\n",
    "    ax2 = sns.boxplot(x=prevencion[atr2])\n",
    "    plt.show()"
   ]
  },
  {
   "cell_type": "code",
   "execution_count": 20,
   "metadata": {},
   "outputs": [
    {
     "data": {
      "text/html": [
       "<div>\n",
       "<style scoped>\n",
       "    .dataframe tbody tr th:only-of-type {\n",
       "        vertical-align: middle;\n",
       "    }\n",
       "\n",
       "    .dataframe tbody tr th {\n",
       "        vertical-align: top;\n",
       "    }\n",
       "\n",
       "    .dataframe thead th {\n",
       "        text-align: right;\n",
       "    }\n",
       "</style>\n",
       "<table border=\"1\" class=\"dataframe\">\n",
       "  <thead>\n",
       "    <tr style=\"text-align: right;\">\n",
       "      <th></th>\n",
       "      <th>Deteccion_cancer_mama</th>\n",
       "      <th>Deteccion_cancer_cervix_uterino</th>\n",
       "      <th>Vacunacion</th>\n",
       "    </tr>\n",
       "  </thead>\n",
       "  <tbody>\n",
       "    <tr>\n",
       "      <th>0</th>\n",
       "      <td>0.725000</td>\n",
       "      <td>0.700627</td>\n",
       "      <td>0.781122</td>\n",
       "    </tr>\n",
       "    <tr>\n",
       "      <th>1</th>\n",
       "      <td>0.757143</td>\n",
       "      <td>0.748119</td>\n",
       "      <td>0.658550</td>\n",
       "    </tr>\n",
       "    <tr>\n",
       "      <th>2</th>\n",
       "      <td>0.821429</td>\n",
       "      <td>0.824451</td>\n",
       "      <td>0.226129</td>\n",
       "    </tr>\n",
       "    <tr>\n",
       "      <th>3</th>\n",
       "      <td>0.821429</td>\n",
       "      <td>0.748119</td>\n",
       "      <td>0.630643</td>\n",
       "    </tr>\n",
       "    <tr>\n",
       "      <th>4</th>\n",
       "      <td>0.772619</td>\n",
       "      <td>0.824451</td>\n",
       "      <td>0.755130</td>\n",
       "    </tr>\n",
       "  </tbody>\n",
       "</table>\n",
       "</div>"
      ],
      "text/plain": [
       "   Deteccion_cancer_mama  Deteccion_cancer_cervix_uterino  Vacunacion\n",
       "0               0.725000                         0.700627    0.781122\n",
       "1               0.757143                         0.748119    0.658550\n",
       "2               0.821429                         0.824451    0.226129\n",
       "3               0.821429                         0.748119    0.630643\n",
       "4               0.772619                         0.824451    0.755130"
      ]
     },
     "execution_count": 20,
     "metadata": {},
     "output_type": "execute_result"
    }
   ],
   "source": [
    "#Normalización de variables para que tengan el mismo peso\n",
    "#Importamos primero las librerias necesarias.\n",
    "#La normalización aplicada en este caso sigue la siguiente formula:\n",
    "#normalización = ( x – min(x) ) / ( max(x) – min(x) )\n",
    "\n",
    "scaler=MinMaxScaler()\n",
    "#Creamos un DataFrame solo con la información numérica para normalizarla\n",
    "prevencion_2=pd.DataFrame(prevencion,columns=[\"Deteccion_cancer_mama\",\"Deteccion_cancer_cervix_uterino\",\"Vacunacion\"])\n",
    "prevencion_vnorm=scaler.fit_transform(prevencion_2)#Normalizamos\n",
    "prevencion_vnorm=pd.DataFrame(prevencion_vnorm,columns=[\"Deteccion_cancer_mama\",\"Deteccion_cancer_cervix_uterino\",\"Vacunacion\"])\n",
    "prevencion_vnorm.head()#Creamos un dataframe con la normalización"
   ]
  },
  {
   "cell_type": "code",
   "execution_count": 21,
   "metadata": {},
   "outputs": [
    {
     "data": {
      "text/html": [
       "<div>\n",
       "<style scoped>\n",
       "    .dataframe tbody tr th:only-of-type {\n",
       "        vertical-align: middle;\n",
       "    }\n",
       "\n",
       "    .dataframe tbody tr th {\n",
       "        vertical-align: top;\n",
       "    }\n",
       "\n",
       "    .dataframe thead th {\n",
       "        text-align: right;\n",
       "    }\n",
       "</style>\n",
       "<table border=\"1\" class=\"dataframe\">\n",
       "  <thead>\n",
       "    <tr style=\"text-align: right;\">\n",
       "      <th></th>\n",
       "      <th>Deteccion_cancer_mama</th>\n",
       "      <th>Deteccion_cancer_cervix_uterino</th>\n",
       "      <th>Vacunacion</th>\n",
       "      <th>TIME</th>\n",
       "      <th>Pais</th>\n",
       "    </tr>\n",
       "  </thead>\n",
       "  <tbody>\n",
       "    <tr>\n",
       "      <th>0</th>\n",
       "      <td>0.725000</td>\n",
       "      <td>0.700627</td>\n",
       "      <td>0.781122</td>\n",
       "      <td>2010</td>\n",
       "      <td>Belgium</td>\n",
       "    </tr>\n",
       "    <tr>\n",
       "      <th>1</th>\n",
       "      <td>0.757143</td>\n",
       "      <td>0.748119</td>\n",
       "      <td>0.658550</td>\n",
       "      <td>2010</td>\n",
       "      <td>Bulgaria</td>\n",
       "    </tr>\n",
       "    <tr>\n",
       "      <th>2</th>\n",
       "      <td>0.821429</td>\n",
       "      <td>0.824451</td>\n",
       "      <td>0.226129</td>\n",
       "      <td>2010</td>\n",
       "      <td>Czechia</td>\n",
       "    </tr>\n",
       "    <tr>\n",
       "      <th>3</th>\n",
       "      <td>0.821429</td>\n",
       "      <td>0.748119</td>\n",
       "      <td>0.630643</td>\n",
       "      <td>2010</td>\n",
       "      <td>Denmark</td>\n",
       "    </tr>\n",
       "    <tr>\n",
       "      <th>4</th>\n",
       "      <td>0.772619</td>\n",
       "      <td>0.824451</td>\n",
       "      <td>0.755130</td>\n",
       "      <td>2010</td>\n",
       "      <td>Germany (until 1990 former territory of the FRG)</td>\n",
       "    </tr>\n",
       "    <tr>\n",
       "      <th>...</th>\n",
       "      <td>...</td>\n",
       "      <td>...</td>\n",
       "      <td>...</td>\n",
       "      <td>...</td>\n",
       "      <td>...</td>\n",
       "    </tr>\n",
       "    <tr>\n",
       "      <th>355</th>\n",
       "      <td>0.725000</td>\n",
       "      <td>0.700627</td>\n",
       "      <td>0.972230</td>\n",
       "      <td>2019</td>\n",
       "      <td>United Kingdom</td>\n",
       "    </tr>\n",
       "    <tr>\n",
       "      <th>356</th>\n",
       "      <td>0.808333</td>\n",
       "      <td>0.700627</td>\n",
       "      <td>0.167715</td>\n",
       "      <td>2019</td>\n",
       "      <td>Montenegro</td>\n",
       "    </tr>\n",
       "    <tr>\n",
       "      <th>357</th>\n",
       "      <td>0.808333</td>\n",
       "      <td>0.700627</td>\n",
       "      <td>0.076607</td>\n",
       "      <td>2019</td>\n",
       "      <td>North Macedonia</td>\n",
       "    </tr>\n",
       "    <tr>\n",
       "      <th>358</th>\n",
       "      <td>0.194048</td>\n",
       "      <td>0.568966</td>\n",
       "      <td>0.139535</td>\n",
       "      <td>2019</td>\n",
       "      <td>Serbia</td>\n",
       "    </tr>\n",
       "    <tr>\n",
       "      <th>359</th>\n",
       "      <td>0.258333</td>\n",
       "      <td>0.045455</td>\n",
       "      <td>0.110807</td>\n",
       "      <td>2019</td>\n",
       "      <td>Turkey</td>\n",
       "    </tr>\n",
       "  </tbody>\n",
       "</table>\n",
       "<p>360 rows × 5 columns</p>\n",
       "</div>"
      ],
      "text/plain": [
       "     Deteccion_cancer_mama  Deteccion_cancer_cervix_uterino  Vacunacion  TIME  \\\n",
       "0                 0.725000                         0.700627    0.781122  2010   \n",
       "1                 0.757143                         0.748119    0.658550  2010   \n",
       "2                 0.821429                         0.824451    0.226129  2010   \n",
       "3                 0.821429                         0.748119    0.630643  2010   \n",
       "4                 0.772619                         0.824451    0.755130  2010   \n",
       "..                     ...                              ...         ...   ...   \n",
       "355               0.725000                         0.700627    0.972230  2019   \n",
       "356               0.808333                         0.700627    0.167715  2019   \n",
       "357               0.808333                         0.700627    0.076607  2019   \n",
       "358               0.194048                         0.568966    0.139535  2019   \n",
       "359               0.258333                         0.045455    0.110807  2019   \n",
       "\n",
       "                                                 Pais  \n",
       "0                                             Belgium  \n",
       "1                                            Bulgaria  \n",
       "2                                             Czechia  \n",
       "3                                             Denmark  \n",
       "4    Germany (until 1990 former territory of the FRG)  \n",
       "..                                                ...  \n",
       "355                                    United Kingdom  \n",
       "356                                        Montenegro  \n",
       "357                                   North Macedonia  \n",
       "358                                            Serbia  \n",
       "359                                            Turkey  \n",
       "\n",
       "[360 rows x 5 columns]"
      ]
     },
     "execution_count": 21,
     "metadata": {},
     "output_type": "execute_result"
    }
   ],
   "source": [
    "#Añadimos las columnas de TIME y Pais al dataframe normalizado\n",
    "prevencion_df=pd.DataFrame(prevencion_vnorm,columns=[\"Deteccion_cancer_mama\",\"Deteccion_cancer_cervix_uterino\",\"Vacunacion\"])\n",
    "prevencion_df['TIME']=prevencion.loc[:,\"TIME\"]\n",
    "prevencion_df['Pais']=prevencion.loc[:,\"Pais\"]\n",
    "prevencion_df"
   ]
  },
  {
   "cell_type": "code",
   "execution_count": 22,
   "metadata": {},
   "outputs": [
    {
     "data": {
      "image/png": "[encoded data removed]",
      "text/plain": [
       "<Figure size 432x288 with 1 Axes>"
      ]
     },
     "metadata": {},
     "output_type": "display_data"
    }
   ],
   "source": [
    "#CURVA DEL CODO\n",
    "wcss=[] #Within cluster sum of squares (suma de los errores cuadráticos)\n",
    "for i in range (1,20): #Rango de 1 a 20\n",
    "    kmeans=KMeans(n_clusters= i, max_iter=300)#Modelo con el método de Kmeans, 300 iteraciones para cada kmeans\n",
    "    kmeans.fit(prevencion_vnorm)#Aplicamos el modelo\n",
    "    wcss.append(kmeans.inertia_)# SSE\n",
    "\n",
    "plt.plot(range(1,20), wcss)\n",
    "plt.title('Método del codo')\n",
    "plt.xlabel('Número de clusters')\n",
    "plt.ylabel('WCSS')#Indica como de similares son los individuos dentro del cluster.\n",
    "plt.show()"
   ]
  },
  {
   "cell_type": "code",
   "execution_count": 23,
   "metadata": {},
   "outputs": [
    {
     "name": "stdout",
     "output_type": "stream",
     "text": [
      "Centroides: \n",
      " [[0.7586222  0.73969897 0.1959755 ]\n",
      " [0.78460021 0.76199956 0.68072769]\n",
      " [0.28322981 0.27388578 0.19172664]]\n",
      "   TIME                                              Pais  \\\n",
      "0  2010                                           Belgium   \n",
      "1  2010                                          Bulgaria   \n",
      "2  2010                                           Czechia   \n",
      "3  2010                                           Denmark   \n",
      "4  2010  Germany (until 1990 former territory of the FRG)   \n",
      "\n",
      "   Deteccion_cancer_mama  Deteccion_cancer_cervix_uterino  Vacunacion  \\\n",
      "0                   67.3                            68.10       58.00   \n",
      "1                   70.0                            71.13       49.04   \n",
      "2                   75.4                            76.00       17.43   \n",
      "3                   75.4                            71.13       47.00   \n",
      "4                   71.3                            76.00       56.10   \n",
      "\n",
      "   Kmeans_clusters  \n",
      "0                1  \n",
      "1                1  \n",
      "2                0  \n",
      "3                1  \n",
      "4                1  \n"
     ]
    }
   ],
   "source": [
    "#Aplicando el modelo Kmeans al dataset\n",
    "clustering=KMeans(n_clusters=3,max_iter=300)#Creamos el modelo\n",
    "clustering.fit(prevencion_vnorm)#Aplicamos el modelo\n",
    "\n",
    "prevencion['Kmeans_clusters']=clustering.labels_\n",
    "prevencion_vnorm['Kmeans_clusters']=clustering.labels_\n",
    "\n",
    "print ('Centroides: \\n',clustering.cluster_centers_)\n",
    "print(prevencion.head())"
   ]
  },
  {
   "cell_type": "code",
   "execution_count": 24,
   "metadata": {},
   "outputs": [
    {
     "name": "stdout",
     "output_type": "stream",
     "text": [
      "Países agrupados en 0: \n",
      " ['Czechia', 'Estonia', 'Croatia', 'Latvia', 'Lithuania', 'Hungary', 'Romania', 'Slovenia', 'Slovakia', 'Liechtenstein', 'Norway', 'Montenegro', 'North Macedonia', 'Serbia']\n",
      "Países agrupados en 1: \n",
      " ['Belgium', 'Bulgaria', 'Denmark', 'Germany (until 1990 former territory of the FRG)', 'Ireland', 'Greece', 'Spain', 'France', 'Italy', 'Cyprus', 'Luxembourg', 'Malta', 'Netherlands', 'Austria', 'Poland', 'Portugal', 'Finland', 'Sweden', 'Iceland', 'Switzerland', 'United Kingdom']\n",
      "Países agrupados en 2: \n",
      " ['Turkey']\n"
     ]
    }
   ],
   "source": [
    "#PARA 2011 Y PREVENCION\n",
    "#=======================\n",
    "is_2011=prevencion.loc[:,\"TIME\"]==2011 #Se selecciona los registros para 2011\n",
    "prevencion_2011=prevencion[is_2011]\n",
    "\n",
    "#Se generan listas con los paises agrupados por similitud en actividades de prevención \n",
    "paises_0=[]\n",
    "paises_1=[]\n",
    "paises_2=[]\n",
    "\n",
    "for i in range (0,len(prevencion_2011)):\n",
    "    if prevencion_2011.iloc[i,5]==0:#si la columna del cluster es 0\n",
    "        paises_0.append(prevencion_2011.iloc[i,1])#Se agrega el nombre del pais a la lista de pais_0\n",
    "    elif prevencion_2011.iloc[i,5]==1:\n",
    "        paises_1.append(prevencion_2011.iloc[i,1])\n",
    "    else: paises_2.append(prevencion_2011.iloc[i,1])\n",
    "        \n",
    "print (\"Países agrupados en 0: \\n {}\".format(paises_0))\n",
    "print (\"Países agrupados en 1: \\n {}\".format(paises_1))\n",
    "print (\"Países agrupados en 2: \\n {}\".format(paises_2))"
   ]
  },
  {
   "cell_type": "code",
   "execution_count": 25,
   "metadata": {},
   "outputs": [
    {
     "name": "stdout",
     "output_type": "stream",
     "text": [
      "Países agrupados en 0: \n",
      " ['Bulgaria', 'Czechia', 'Estonia', 'Croatia', 'Cyprus', 'Latvia', 'Lithuania', 'Hungary', 'Austria', 'Poland', 'Romania', 'Slovenia', 'Slovakia', 'Norway', 'Montenegro', 'North Macedonia', 'Serbia']\n",
      "Países agrupados en 1: \n",
      " ['Belgium', 'Denmark', 'Germany (until 1990 former territory of the FRG)', 'Ireland', 'Greece', 'Spain', 'France', 'Italy', 'Luxembourg', 'Malta', 'Netherlands', 'Portugal', 'Finland', 'Sweden', 'Iceland', 'Switzerland', 'United Kingdom']\n",
      "Países agrupados en 2: \n",
      " ['Liechtenstein', 'Turkey']\n"
     ]
    }
   ],
   "source": [
    "#PARA 2012 Y PREVENCION\n",
    "#=======================\n",
    "is_2012=prevencion.loc[:,\"TIME\"]==2012 #Se selecciona los registros para 2012\n",
    "prevencion_2012=prevencion[is_2012]\n",
    "\n",
    "#Se generan listas con los paises agrupados por similitud en actividades de prevención \n",
    "paises_0=[]\n",
    "paises_1=[]\n",
    "paises_2=[]\n",
    "\n",
    "for i in range (0,len(prevencion_2012)):\n",
    "    if prevencion_2012.iloc[i,5]==0:#si la columna del cluster es 0\n",
    "        paises_0.append(prevencion_2012.iloc[i,1])#Se agrega el nombre del pais a la lista de pais_0\n",
    "    elif prevencion_2012.iloc[i,5]==1:\n",
    "        paises_1.append(prevencion_2012.iloc[i,1])\n",
    "    else: paises_2.append(prevencion_2012.iloc[i,1])\n",
    "        \n",
    "print (\"Países agrupados en 0: \\n {}\".format(paises_0))\n",
    "print (\"Países agrupados en 1: \\n {}\".format(paises_1))\n",
    "print (\"Países agrupados en 2: \\n {}\".format(paises_2))"
   ]
  },
  {
   "cell_type": "code",
   "execution_count": 26,
   "metadata": {},
   "outputs": [
    {
     "name": "stdout",
     "output_type": "stream",
     "text": [
      "Países agrupados en 0: \n",
      " ['Bulgaria', 'Czechia', 'Estonia', 'Croatia', 'Cyprus', 'Latvia', 'Lithuania', 'Hungary', 'Austria', 'Poland', 'Romania', 'Slovenia', 'Slovakia', 'Liechtenstein', 'Norway', 'Montenegro', 'North Macedonia']\n",
      "Países agrupados en 1: \n",
      " ['Belgium', 'Denmark', 'Germany (until 1990 former territory of the FRG)', 'Ireland', 'Greece', 'Spain', 'France', 'Italy', 'Luxembourg', 'Malta', 'Netherlands', 'Portugal', 'Finland', 'Sweden', 'Iceland', 'Switzerland', 'United Kingdom']\n",
      "Países agrupados en 2: \n",
      " ['Serbia', 'Turkey']\n"
     ]
    }
   ],
   "source": [
    "#PARA 2013 Y PREVENCION\n",
    "#=======================\n",
    "is_2013=prevencion.loc[:,\"TIME\"]==2013 #Se selecciona los registros para 2013\n",
    "prevencion_2013=prevencion[is_2013]\n",
    "\n",
    "#Se generan listas con los paises agrupados por similitud en actividades de prevención \n",
    "paises_0=[]\n",
    "paises_1=[]\n",
    "paises_2=[]\n",
    "\n",
    "for i in range (0,len(prevencion_2013)):\n",
    "    if prevencion_2013.iloc[i,5]==0:#si la columna del cluster es 0\n",
    "        paises_0.append(prevencion_2013.iloc[i,1])#Se agrega el nombre del pais a la lista de pais_0\n",
    "    elif prevencion_2013.iloc[i,5]==1:\n",
    "        paises_1.append(prevencion_2013.iloc[i,1])\n",
    "    else: paises_2.append(prevencion_2013.iloc[i,1])\n",
    "        \n",
    "print (\"Países agrupados en 0: \\n {}\".format(paises_0))\n",
    "print (\"Países agrupados en 1: \\n {}\".format(paises_1))\n",
    "print (\"Países agrupados en 2: \\n {}\".format(paises_2))"
   ]
  },
  {
   "cell_type": "code",
   "execution_count": 27,
   "metadata": {},
   "outputs": [
    {
     "name": "stdout",
     "output_type": "stream",
     "text": [
      "Países agrupados en 0: \n",
      " ['Czechia', 'Croatia', 'Cyprus', 'Latvia', 'Hungary', 'Austria', 'Poland', 'Slovenia', 'Slovakia', 'Norway', 'Montenegro', 'North Macedonia']\n",
      "Países agrupados en 1: \n",
      " ['Belgium', 'Denmark', 'Germany (until 1990 former territory of the FRG)', 'Ireland', 'Greece', 'Spain', 'France', 'Italy', 'Luxembourg', 'Malta', 'Netherlands', 'Portugal', 'Finland', 'Sweden', 'Iceland', 'Switzerland', 'United Kingdom']\n",
      "Países agrupados en 2: \n",
      " ['Bulgaria', 'Estonia', 'Lithuania', 'Romania', 'Liechtenstein', 'Serbia', 'Turkey']\n"
     ]
    }
   ],
   "source": [
    "#PARA 2014 Y PREVENCION\n",
    "#=======================\n",
    "is_2014=prevencion.loc[:,\"TIME\"]==2014 #Se selecciona los registros para 2014\n",
    "prevencion_2014=prevencion[is_2014]\n",
    "\n",
    "#Se generan listas con los paises agrupados por similitud en actividades de prevención \n",
    "paises_0=[]\n",
    "paises_1=[]\n",
    "paises_2=[]\n",
    "\n",
    "for i in range (0,len(prevencion_2014)):\n",
    "    if prevencion_2014.iloc[i,5]==0:#si la columna del cluster es 0\n",
    "        paises_0.append(prevencion_2014.iloc[i,1])#Se agrega el nombre del pais a la lista de pais_0\n",
    "    elif prevencion_2014.iloc[i,5]==1:\n",
    "        paises_1.append(prevencion_2014.iloc[i,1])\n",
    "    else: paises_2.append(prevencion_2014.iloc[i,1])\n",
    "        \n",
    "print (\"Países agrupados en 0: \\n {}\".format(paises_0))\n",
    "print (\"Países agrupados en 1: \\n {}\".format(paises_1))\n",
    "print (\"Países agrupados en 2: \\n {}\".format(paises_2))"
   ]
  },
  {
   "cell_type": "code",
   "execution_count": 28,
   "metadata": {},
   "outputs": [
    {
     "name": "stdout",
     "output_type": "stream",
     "text": [
      "Países agrupados en 0: \n",
      " ['Czechia', 'Estonia', 'Croatia', 'Latvia', 'Lithuania', 'Hungary', 'Romania', 'Slovenia', 'Slovakia', 'Liechtenstein', 'Norway', 'Montenegro', 'North Macedonia', 'Serbia']\n",
      "Países agrupados en 1: \n",
      " ['Belgium', 'Denmark', 'Germany (until 1990 former territory of the FRG)', 'Ireland', 'Greece', 'Spain', 'France', 'Italy', 'Cyprus', 'Luxembourg', 'Malta', 'Netherlands', 'Austria', 'Poland', 'Portugal', 'Finland', 'Sweden', 'Iceland', 'Switzerland', 'United Kingdom']\n",
      "Países agrupados en 2: \n",
      " ['Bulgaria', 'Turkey']\n"
     ]
    }
   ],
   "source": [
    "#PARA 2015 Y PREVENCION\n",
    "#=======================\n",
    "is_2015=prevencion.loc[:,\"TIME\"]==2015 #Se selecciona los registros para 2015\n",
    "prevencion_2015=prevencion[is_2015]\n",
    "\n",
    "#Se generan listas con los paises agrupados por similitud en actividades de prevención \n",
    "paises_0=[]\n",
    "paises_1=[]\n",
    "paises_2=[]\n",
    "\n",
    "for i in range (0,len(prevencion_2015)):\n",
    "    if prevencion_2015.iloc[i,5]==0:#si la columna del cluster es 0\n",
    "        paises_0.append(prevencion_2015.iloc[i,1])#Se agrega el nombre del pais a la lista de pais_0\n",
    "    elif prevencion_2015.iloc[i,5]==1:\n",
    "        paises_1.append(prevencion_2015.iloc[i,1])\n",
    "    else: paises_2.append(prevencion_2015.iloc[i,1])\n",
    "        \n",
    "print (\"Países agrupados en 0: \\n {}\".format(paises_0))\n",
    "print (\"Países agrupados en 1: \\n {}\".format(paises_1))\n",
    "print (\"Países agrupados en 2: \\n {}\".format(paises_2))"
   ]
  },
  {
   "cell_type": "code",
   "execution_count": 29,
   "metadata": {},
   "outputs": [
    {
     "name": "stdout",
     "output_type": "stream",
     "text": [
      "Países agrupados en 0: \n",
      " ['Czechia', 'Estonia', 'Croatia', 'Latvia', 'Hungary', 'Romania', 'Slovenia', 'Slovakia', 'Liechtenstein', 'Montenegro', 'North Macedonia', 'Serbia']\n",
      "Países agrupados en 1: \n",
      " ['Belgium', 'Denmark', 'Germany (until 1990 former territory of the FRG)', 'Ireland', 'Greece', 'Spain', 'France', 'Italy', 'Cyprus', 'Luxembourg', 'Malta', 'Netherlands', 'Austria', 'Poland', 'Portugal', 'Finland', 'Sweden', 'Iceland', 'Norway', 'Switzerland', 'United Kingdom']\n",
      "Países agrupados en 2: \n",
      " ['Bulgaria', 'Lithuania', 'Turkey']\n"
     ]
    }
   ],
   "source": [
    "#PARA 2016 Y PREVENCION\n",
    "#=======================\n",
    "is_2016=prevencion.loc[:,\"TIME\"]==2016 #Se selecciona los registros para 2016\n",
    "prevencion_2016=prevencion[is_2016]\n",
    "\n",
    "#Se generan listas con los paises agrupados por similitud en actividades de prevención \n",
    "paises_0=[]\n",
    "paises_1=[]\n",
    "paises_2=[]\n",
    "\n",
    "for i in range (0,len(prevencion_2016)):\n",
    "    if prevencion_2016.iloc[i,5]==0:#si la columna del cluster es 0\n",
    "        paises_0.append(prevencion_2016.iloc[i,1])#Se agrega el nombre del pais a la lista de pais_0\n",
    "    elif prevencion_2016.iloc[i,5]==1:\n",
    "        paises_1.append(prevencion_2016.iloc[i,1])\n",
    "    else: paises_2.append(prevencion_2016.iloc[i,1])\n",
    "        \n",
    "print (\"Países agrupados en 0: \\n {}\".format(paises_0))\n",
    "print (\"Países agrupados en 1: \\n {}\".format(paises_1))\n",
    "print (\"Países agrupados en 2: \\n {}\".format(paises_2))"
   ]
  },
  {
   "cell_type": "code",
   "execution_count": 30,
   "metadata": {},
   "outputs": [
    {
     "name": "stdout",
     "output_type": "stream",
     "text": [
      "Países agrupados en 0: \n",
      " ['Czechia', 'Estonia', 'Croatia', 'Latvia', 'Lithuania', 'Hungary', 'Romania', 'Slovenia', 'Slovakia', 'Liechtenstein', 'Montenegro', 'North Macedonia', 'Serbia']\n",
      "Países agrupados en 1: \n",
      " ['Belgium', 'Denmark', 'Germany (until 1990 former territory of the FRG)', 'Ireland', 'Greece', 'Spain', 'France', 'Italy', 'Cyprus', 'Luxembourg', 'Malta', 'Netherlands', 'Austria', 'Poland', 'Portugal', 'Finland', 'Sweden', 'Iceland', 'Norway', 'Switzerland', 'United Kingdom']\n",
      "Países agrupados en 2: \n",
      " ['Bulgaria', 'Turkey']\n"
     ]
    }
   ],
   "source": [
    "#PARA 2017 Y PREVENCION\n",
    "#=======================\n",
    "is_2017=prevencion.loc[:,\"TIME\"]==2017 #Se selecciona los registros para 2016\n",
    "prevencion_2017=prevencion[is_2017]\n",
    "\n",
    "#Se generan listas con los paises agrupados por similitud en actividades de prevención \n",
    "paises_0=[]\n",
    "paises_1=[]\n",
    "paises_2=[]\n",
    "\n",
    "for i in range (0,len(prevencion_2017)):\n",
    "    if prevencion_2017.iloc[i,5]==0:#si la columna del cluster es 0\n",
    "        paises_0.append(prevencion_2017.iloc[i,1])#Se agrega el nombre del pais a la lista de pais_0\n",
    "    elif prevencion_2017.iloc[i,5]==1:\n",
    "        paises_1.append(prevencion_2017.iloc[i,1])\n",
    "    else: paises_2.append(prevencion_2017.iloc[i,1])\n",
    "        \n",
    "print (\"Países agrupados en 0: \\n {}\".format(paises_0))\n",
    "print (\"Países agrupados en 1: \\n {}\".format(paises_1))\n",
    "print (\"Países agrupados en 2: \\n {}\".format(paises_2))"
   ]
  }
 ],
 "metadata": {
  "kernelspec": {
   "display_name": "Python 3",
   "language": "python",
   "name": "python3"
  },
  "language_info": {
   "codemirror_mode": {
    "name": "ipython",
    "version": 3
   },
   "file_extension": ".py",
   "mimetype": "text/x-python",
   "name": "python",
   "nbconvert_exporter": "python",
   "pygments_lexer": "ipython3",
   "version": "3.8.5"
  }
 },
 "nbformat": 4,
 "nbformat_minor": 4
}
